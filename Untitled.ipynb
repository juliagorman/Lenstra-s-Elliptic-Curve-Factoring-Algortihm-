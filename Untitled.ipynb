{
 "cells": [
  {
   "cell_type": "markdown",
   "metadata": {},
   "source": [
    "# Lenstra's Elliptic Curve Algorithm\n",
    "\n",
    "### Attempting to use use ECM to factor a large N\n",
    "Created by: Julia Gorman 11-17-2018\n"
   ]
  },
  {
   "cell_type": "code",
   "execution_count": 1,
   "metadata": {
    "collapsed": true
   },
   "outputs": [],
   "source": [
    "import numpy as np\n",
    "import matplotlib.pyplot as plt\n",
    "import pandas as pd\n",
    "import scipy.io as sio\n",
    "from scipy.optimize import curve_fit\n",
    "import seaborn; seaborn.set()  # plot styling"
   ]
  },
  {
   "cell_type": "markdown",
   "metadata": {},
   "source": [
    "Here I'm just making an elliptic curve because I like to look at them, even though this isn't the same as an elliptic curve over a finite field its still pretty"
   ]
  },
  {
   "cell_type": "code",
   "execution_count": 9,
   "metadata": {},
   "outputs": [
    {
     "data": {
      "image/png": "[encoded data removed]",
      "text/plain": [
       "<matplotlib.figure.Figure at 0x104ada908>"
      ]
     },
     "metadata": {},
     "output_type": "display_data"
    }
   ],
   "source": [
    "def main():\n",
    "    a = 3\n",
    "    b = 1\n",
    "\n",
    "    y, x = np.ogrid[-5:5:100j, -5:5:100j]\n",
    "    plt.contour(x.ravel(), y.ravel(), pow(y, 2) - pow(x, 3) - x * a - b, [0])\n",
    "    plt.grid()\n",
    "    plt.show()\n",
    "\n",
    "if __name__ == '__main__':\n",
    "    main()"
   ]
  },
  {
   "cell_type": "markdown",
   "metadata": {},
   "source": [
    "$\\lambda$ changes if you are adding the same point to itself or to another, thus it is not a truly recursive function, need to define cases seperately. \n",
    "\n",
    "## Step One: Adding P to itself\n",
    "set P into two distinct parts, x and y coordinates"
   ]
  },
  {
   "cell_type": "code",
   "execution_count": 7,
   "metadata": {},
   "outputs": [
    {
     "name": "stdout",
     "output_type": "stream",
     "text": [
      "(43, 177)\n"
     ]
    }
   ],
   "source": [
    "#Euclidean Algorithm Calculator and modular inverse calculator \n",
    "#Takes in the P=(x,y), the m is the N needed to be factored and A is the A defined on E: Y^2 = X^3 +AX +B\n",
    "\n",
    "x = 38\n",
    "y = 112\n",
    "m = 391\n",
    "A = 3\n",
    "\n",
    "\n",
    "def gcd(a, b):\n",
    "    if a == 0:\n",
    "        return (b, 0, 1)\n",
    "    else:\n",
    "        g, y, x = gcd(b % a, a)\n",
    "        return (g, x - (b // a) * y, y)\n",
    "\n",
    "def modinv(a, m):\n",
    "    g, x, y = gcd(a, m)\n",
    "    if g != 1:\n",
    "        raise Exception('modular inverse does not exist')\n",
    "    else:\n",
    "        return x % m\n",
    "\n",
    "def f1(x,y,m):\n",
    "    boi = (3*x**2 + A)*modinv(2*y,m)\n",
    "    Lambda = boi % m\n",
    "    return Lambda\n",
    "\n",
    "Lambda = f1(x,y,m)\n",
    "\n",
    "def TwoP(x,y,m,Lambda):\n",
    "    x2P = (Lambda**2 - 2*x) % m\n",
    "    y2P = (Lambda*(x - x2P) - y) % m \n",
    "    return x2P, y2P\n",
    "\n",
    "print (TwoP(x,y,m,Lambda))\n"
   ]
  },
  {
   "cell_type": "markdown",
   "metadata": {},
   "source": [
    "## Step Two: Looping to Factor\n",
    "\n",
    "Now that we were able to calculate 2P from P, we use a different formula to build new points until we've reached an error"
   ]
  },
  {
   "cell_type": "code",
   "execution_count": 8,
   "metadata": {},
   "outputs": [
    {
     "name": "stdout",
     "output_type": "stream",
     "text": [
      "3P is (88, 20)\n",
      "3\n",
      "4P is (93, 13)\n",
      "(11, 1, 0)\n"
     ]
    }
   ],
   "source": [
    "#I want to build a loop here but I'll think of it later\n",
    "x2P = 43\n",
    "y2P = 177\n",
    "\n",
    "def f2(x2P,y2P,x,y):\n",
    "    Lambda = ((modinv((x2P-x),m)*(y2P-y))) % m \n",
    "    return Lambda\n",
    "\n",
    "slope = f2(x2P,y2P,x,y)\n",
    "\n",
    "def nP(x,y,m,slope):\n",
    "    xnP = (slope**2 - x2P - x) % m\n",
    "    ynP = (slope*(x - xnP) - y) % m \n",
    "    return xnP, ynP\n",
    "\n",
    "\n",
    "\n",
    "print ('3P is',nP(x,y,m,slope))\n",
    "print (f1(x2P,y2P,187))\n",
    "print ('4P is',TwoP(x2P,y2P,187,71))\n",
    "# print (f2(54,x2P,105,y2P)) #here we get an inverse because the modular inverse dos not exist\n",
    "print (gcd(54-43,187))\n",
    "\n",
    "\n",
    "        \n",
    "\n"
   ]
  },
  {
   "cell_type": "code",
   "execution_count": null,
   "metadata": {
    "collapsed": true
   },
   "outputs": [],
   "source": []
  },
  {
   "cell_type": "code",
   "execution_count": null,
   "metadata": {
    "collapsed": true
   },
   "outputs": [],
   "source": []
  }
 ],
 "metadata": {
  "kernelspec": {
   "display_name": "Python 3",
   "language": "python",
   "name": "python3"
  },
  "language_info": {
   "codemirror_mode": {
    "name": "ipython",
    "version": 3
   },
   "file_extension": ".py",
   "mimetype": "text/x-python",
   "name": "python",
   "nbconvert_exporter": "python",
   "pygments_lexer": "ipython3",
   "version": "3.6.2"
  }
 },
 "nbformat": 4,
 "nbformat_minor": 2
}
